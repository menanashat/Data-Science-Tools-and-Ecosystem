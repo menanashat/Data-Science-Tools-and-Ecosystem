{
 "cells": [
  {
   "cell_type": "markdown",
   "id": "e72233b0",
   "metadata": {},
   "source": [
    "Data Science Tools and Ecosystem"
   ]
  },
  {
   "cell_type": "markdown",
   "id": "c78f1a25",
   "metadata": {},
   "source": [
    "In this notebook, Data Science Tools and Ecosystem are summarized.\n"
   ]
  },
  {
   "cell_type": "markdown",
   "id": "aeaa724f",
   "metadata": {},
   "source": [
    "Some of the popular languages that Data Scientists use are:\n",
    "\n",
    "1-Python\n",
    "\n",
    "2-R\n",
    "\n",
    "3-SQL\n",
    "\n",
    "4-Scala\n",
    "\n",
    "5-JS"
   ]
  },
  {
   "cell_type": "markdown",
   "id": "c3d056b5",
   "metadata": {},
   "source": [
    "Some of the commonly used libraries used by Data Scientists include:\n",
    "\n",
    "1-NumPy: Provides support for large, multi-dimensional arrays and matrices in Python.\n",
    "\n",
    "2-Pandas: Offers data structures and data analysis tools for working with structured data.\n",
    "\n",
    "3-Matplotlib: A popular data visualization library for creating static, animated, or interactive plots.\n",
    "\n",
    "4-Seaborn: Built on top of Matplotlib, it provides a high-level interface for creating informative and attractive statistical graphics.\n",
    "\n",
    "5-Scikit-Learn: A machine learning library that includes various tools for data analysis and modeling.\n",
    "\n",
    "6-TensorFlow: An open-source machine learning framework developed by Google for deep learning applications.\n",
    "\n",
    "7-PyTorch: Another open-source machine learning framework that focuses on deep learning and neural networks.\n",
    "\n",
    "8-Keras: An easy-to-use, high-level neural networks API that runs on top of deep learning frameworks like TensorFlow and Theano.\n",
    "\n",
    "9-SciPy: A library for scientific and technical computing that builds on the capabilities of NumPy.\n",
    "\n",
    "10-Statsmodels: Offers classes and functions for estimating and interpreting various statistical models.\n",
    "\n",
    "11-XGBoost: An optimized gradient boosting library used for supervised learning tasks."
   ]
  },
  {
   "cell_type": "markdown",
   "id": "0b47f750",
   "metadata": {},
   "source": [
    "| Data Science Tools   |\n",
    "|-----------------------|\n",
    "| Jupyter Notebook      |\n",
    "| RStudio               |\n",
    "| Visual Studio Code   |"
   ]
  },
  {
   "cell_type": "markdown",
   "id": "5851d1f5",
   "metadata": {},
   "source": [
    "### Below are a few examples of evaluating arithmetic expressions in Python."
   ]
  },
  {
   "cell_type": "code",
   "execution_count": 1,
   "id": "0596272f",
   "metadata": {},
   "outputs": [
    {
     "data": {
      "text/plain": [
       "17"
      ]
     },
     "execution_count": 1,
     "metadata": {},
     "output_type": "execute_result"
    }
   ],
   "source": [
    "# This is a simple arithmetic expression to multiply then add integers.\n",
    "result = (3 * 4) + 5\n",
    "result"
   ]
  },
  {
   "cell_type": "code",
   "execution_count": 2,
   "id": "2accca93",
   "metadata": {},
   "outputs": [
    {
     "data": {
      "text/plain": [
       "3.3333333333333335"
      ]
     },
     "execution_count": 2,
     "metadata": {},
     "output_type": "execute_result"
    }
   ],
   "source": [
    "# This will convert 200 minutes to hours by dividing by 60.\n",
    "minutes = 200\n",
    "hours = minutes / 60\n",
    "hours"
   ]
  },
  {
   "cell_type": "markdown",
   "id": "694891bd",
   "metadata": {},
   "source": [
    "**Objectives:**\n",
    "\n",
    "- Introduction to data science libraries.\n",
    "- Usage of data science tools.\n",
    "- Arithmetic expressions in Python.\n",
    "- Basic mathematical operations.\n",
    "- Conversion of minutes to hours."
   ]
  },
  {
   "cell_type": "markdown",
   "id": "7e803cce",
   "metadata": {},
   "source": [
    "## Author\n",
    "Mina Nashat "
   ]
  },
  {
   "cell_type": "code",
   "execution_count": null,
   "id": "50b5995e",
   "metadata": {},
   "outputs": [],
   "source": []
  }
 ],
 "metadata": {
  "kernelspec": {
   "display_name": "Python 3 (ipykernel)",
   "language": "python",
   "name": "python3"
  },
  "language_info": {
   "codemirror_mode": {
    "name": "ipython",
    "version": 3
   },
   "file_extension": ".py",
   "mimetype": "text/x-python",
   "name": "python",
   "nbconvert_exporter": "python",
   "pygments_lexer": "ipython3",
   "version": "3.11.3"
  }
 },
 "nbformat": 4,
 "nbformat_minor": 5
}
